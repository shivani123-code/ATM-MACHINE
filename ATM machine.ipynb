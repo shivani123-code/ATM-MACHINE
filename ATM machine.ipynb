{
 "cells": [
  {
   "cell_type": "code",
   "execution_count": 1,
   "metadata": {},
   "outputs": [],
   "source": [
    "import time"
   ]
  },
  {
   "cell_type": "code",
   "execution_count": null,
   "metadata": {},
   "outputs": [
    {
     "name": "stdout",
     "output_type": "stream",
     "text": [
      "Swipe your card please\n",
      "\n",
      "Enter your card pin\n",
      "123456\n",
      "1.Balance\n",
      "2.Withdrawl\n",
      "3.Deposit\n",
      "4.Exit\n",
      "Enter your choice\n",
      "1\n",
      "Your Current balance is:100000\n",
      "1.Balance\n",
      "2.Withdrawl\n",
      "3.Deposit\n",
      "4.Exit\n",
      "Enter your choice\n",
      "2\n",
      "Enter amount  you want to  withdraw :1000\n",
      "1000 is debited from your account\n",
      "\n",
      "reamining balance is:99000\n",
      "1.Balance\n",
      "2.Withdrawl\n",
      "3.Deposit\n",
      "4.Exit\n",
      "Enter your choice\n",
      "1\n",
      "Your Current balance is:99000\n",
      "1.Balance\n",
      "2.Withdrawl\n",
      "3.Deposit\n",
      "4.Exit\n",
      "Enter your choice\n",
      "3\n",
      "Enter the money you want to deposit\n",
      "12003\n",
      "12003 has been credited to your account\n",
      "\n",
      "Your current balance is:111003\n",
      "1.Balance\n",
      "2.Withdrawl\n",
      "3.Deposit\n",
      "4.Exit\n",
      "Enter your choice\n",
      "1\n",
      "Your Current balance is:111003\n",
      "1.Balance\n",
      "2.Withdrawl\n",
      "3.Deposit\n",
      "4.Exit\n",
      "Enter your choice\n",
      "4\n",
      "Have a Cheerful day\n",
      "\n",
      "1.Balance\n",
      "2.Withdrawl\n",
      "3.Deposit\n",
      "4.Exit\n"
     ]
    }
   ],
   "source": [
    "print(\"Swipe your card please\\n\")\n",
    "time.sleep(2)\n",
    "pin = 123456\n",
    "Balance = 100000\n",
    "print(\"Enter your card pin\")\n",
    "num = int(input(\"\"))\n",
    "while(True):\n",
    "    if(pin==num):\n",
    "        print(\"1.Balance\\n2.Withdrawl\\n3.Deposit\\n4.Exit\")\n",
    "        try:\n",
    "            option = int(input(\"Enter your choice\\n\"))\n",
    "        except:\n",
    "            print(\"Enter the valid choice\\n\")\n",
    "        if(option==1):\n",
    "                print(f\"Your Current balance is:{Balance}\")\n",
    "        if(option==2):\n",
    "            Withdrawl_amaount = int(input(\"Enter amount  you want to  withdraw :\"))\n",
    "            if(Withdrawl_amaount<=100000):\n",
    "                Balance = Balance - Withdrawl_amaount\n",
    "                print(f\"{Withdrawl_amaount} is debited from your account\\n\")\n",
    "                print(f\"reamining balance is:{Balance}\")\n",
    "            else:\n",
    "                print(\"SORRY! You do not have sufficient balance\\n\")\n",
    "        if(option==3):\n",
    "            deposit_money = int(input(\"Enter the money you want to deposit\\n\"))\n",
    "            Balance = Balance + deposit_money\n",
    "            print(f\"{deposit_money} has been credited to your account\\n\")\n",
    "            print(f\"Your current balance is:{Balance}\")\n",
    "        if(option==4):\n",
    "            print(\"Have a Cheerful day\\n\")\n",
    "    else:\n",
    "        print(\"Sorry! Your pin is not correct\\n\")"
   ]
  },
  {
   "cell_type": "code",
   "execution_count": null,
   "metadata": {},
   "outputs": [],
   "source": []
  },
  {
   "cell_type": "code",
   "execution_count": null,
   "metadata": {},
   "outputs": [],
   "source": []
  },
  {
   "cell_type": "code",
   "execution_count": null,
   "metadata": {},
   "outputs": [],
   "source": []
  }
 ],
 "metadata": {
  "kernelspec": {
   "display_name": "Python 3",
   "language": "python",
   "name": "python3"
  },
  "language_info": {
   "codemirror_mode": {
    "name": "ipython",
    "version": 3
   },
   "file_extension": ".py",
   "mimetype": "text/x-python",
   "name": "python",
   "nbconvert_exporter": "python",
   "pygments_lexer": "ipython3",
   "version": "3.8.3"
  }
 },
 "nbformat": 4,
 "nbformat_minor": 4
}
